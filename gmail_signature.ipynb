{
 "cells": [
  {
   "cell_type": "markdown",
   "id": "77bfbf23",
   "metadata": {},
   "source": [
    "# Set gmail signature for the company account\n",
    "\n",
    "Trust me, this is the only working sample I came up from several posts and code snippets.\n",
    "You need a service account api key token json file with \"https://www.googleapis.com/auth/gmail.settings.basic\" permission."
   ]
  },
  {
   "cell_type": "code",
   "execution_count": null,
   "id": "8be88284-646e-4546-ad40-68050d5b7914",
   "metadata": {},
   "outputs": [],
   "source": [
    "!pip install --upgrade google-api-python-client google-auth-httplib2 google-auth-oauthlib\n",
    "!pip install okta python-dotenv"
   ]
  },
  {
   "cell_type": "code",
   "execution_count": null,
   "id": "beec6ff0-bba3-4b41-bf45-9f642702ef6b",
   "metadata": {},
   "outputs": [],
   "source": [
    "from google.oauth2.service_account import Credentials as ServiceAccountCredentials\n",
    "from googleapiclient.discovery import build\n",
    "\n",
    "import os.path\n",
    "\n",
    "from google.auth.transport.requests import Request\n",
    "from google.oauth2.credentials import Credentials\n",
    "from google_auth_oauthlib.flow import InstalledAppFlow\n",
    "from googleapiclient.discovery import build\n",
    "from googleapiclient.errors import HttpError"
   ]
  },
  {
   "cell_type": "code",
   "execution_count": null,
   "id": "b2b4e90d-8064-4f00-8578-c2dbb5d9b63c",
   "metadata": {},
   "outputs": [],
   "source": [
    "def list_signature(service, email):\n",
    "  try:\n",
    "    result = service.users().settings().sendAs().list(userId=email).execute()\n",
    "    alias_list = result.get(\"sendAs\", [])\n",
    "    for alias in alias_list:\n",
    "      if alias.get(\"isPrimary\"):\n",
    "        #print(f\"Primary: {alias}\")\n",
    "        return alias\n",
    "  except Exception as e:\n",
    "    print(e)\n",
    "  return None\n",
    "\n",
    "def update_signature(service, display_name, email, sig):\n",
    "  try:\n",
    "    send_as_configuration = {\n",
    "        \"displayName\": display_name,\n",
    "        \"signature\": sig,\n",
    "    }\n",
    "\n",
    "    # pylint: disable=E1101\n",
    "    result = (\n",
    "        service.users()\n",
    "        .settings()\n",
    "        .sendAs()\n",
    "        .patch(\n",
    "            userId=email,\n",
    "            sendAsEmail=email,\n",
    "            body=send_as_configuration,\n",
    "        )\n",
    "        .execute()\n",
    "    )\n",
    "    print(f'Updated signature for: {result.get(\"displayName\")}, {result.get(\"sendAsEmail\")}')\n",
    "    return result.get(\"signature\")\n",
    "  except Exception as error:\n",
    "    print(f\"An error occurred: {error}\")\n",
    "  return None  "
   ]
  },
  {
   "cell_type": "code",
   "execution_count": null,
   "id": "31f2319f-18da-47d6-9eb3-ade764ba49d5",
   "metadata": {},
   "outputs": [],
   "source": [
    "email = 'foo@bar.com'\n",
    "\n",
    "\n",
    "# Required scopes for Gmail settings\n",
    "SCOPES = ['https://www.googleapis.com/auth/gmail.settings.basic']\n",
    "\n",
    "# Service account credentials with user impersonation\n",
    "creds = ServiceAccountCredentials.from_service_account_file(\n",
    "    \"google-service-account.json\", # Path to your service account key file, replace with your file.\n",
    "    scopes=SCOPES,\n",
    "    subject=email  # The email of the user to impersonate\n",
    ")\n",
    "\n",
    "service = build(\"gmail\", \"v1\", credentials=creds)\n",
    "old_alias = list_signature(service, email)\n",
    "#print(f\"Primary alias:{old_alias}\")"
   ]
  },
  {
   "cell_type": "code",
   "execution_count": null,
   "id": "ec43c9ab-a34b-4093-945b-57fca465ebf8",
   "metadata": {},
   "outputs": [],
   "source": [
    "first_name = 'profile.firstName'\n",
    "last_name = 'profile.lastName'\n",
    "title = 'profile.title'\n",
    "dept = 'profile.department'\n",
    "\n",
    "signature = f'''{first_name}&nbsp;{last_name}<br>{title}<br>{dept}<br>'''\n",
    "new_signature = update_signature(service, f\"{first_name} {last_name}\", email, old_alias, signature)"
   ]
  },
  {
   "cell_type": "code",
   "execution_count": null,
   "id": "f99d25b8-542f-4d85-9cdf-47bae7d3bdce",
   "metadata": {},
   "outputs": [],
   "source": []
  }
 ],
 "metadata": {
  "kernelspec": {
   "display_name": "Python 3 (ipykernel)",
   "language": "python",
   "name": "python3"
  },
  "language_info": {
   "codemirror_mode": {
    "name": "ipython",
    "version": 3
   },
   "file_extension": ".py",
   "mimetype": "text/x-python",
   "name": "python",
   "nbconvert_exporter": "python",
   "pygments_lexer": "ipython3",
   "version": "3.12.9"
  }
 },
 "nbformat": 4,
 "nbformat_minor": 5
}
