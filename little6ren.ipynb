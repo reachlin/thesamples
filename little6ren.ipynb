{
 "cells": [
  {
   "cell_type": "markdown",
   "id": "9c96dc0d-a20b-46f9-8667-4495fe7279bd",
   "metadata": {},
   "source": [
    "# 小六壬\n",
    "\n",
    "Input any three numbers to predict. \n",
    "Ref, https://www.youtube.com/watch?v=wHGx9p_xknM\n"
   ]
  },
  {
   "cell_type": "code",
   "execution_count": null,
   "id": "f7e281d4-b06c-4be4-b52d-52d9ec6a3976",
   "metadata": {},
   "outputs": [],
   "source": [
    "ren_names = [\n",
    "    \"大安\",\"留连\",\"速喜\",\n",
    "    \"赤口\",\"小吉\",\"空亡\",\n",
    "    \"病符\",\"桃花\",\"天德\"\n",
    "            ]\n",
    "def predict(one, two, three):\n",
    "    index = 0\n",
    "    rtn = []\n",
    "    for item in [one, two, three]:\n",
    "        index = (index + item - 1)%9\n",
    "        rtn.append(ren_names[index])\n",
    "    print(rtn)\n",
    "    return tuple(rtn)"
   ]
  },
  {
   "cell_type": "code",
   "execution_count": null,
   "id": "bfce0a93-b905-47ad-8be4-5a9a73491115",
   "metadata": {},
   "outputs": [],
   "source": [
    "assert(predict(1,1,1)==('大安', '大安', '大安'))\n",
    "assert(predict(9,1,1)==('天德', '天德', '天德'))\n",
    "assert(predict(1,9,1)==('大安', '天德', '天德'))\n",
    "assert(predict(1,9,2)==('大安', '天德', '大安'))\n",
    "assert(predict(5,23,11)==('小吉', '天德', '大安'))\n",
    "assert(predict(11,11,11)==('留连', '速喜', '赤口'))"
   ]
  },
  {
   "cell_type": "code",
   "execution_count": null,
   "id": "7aa0a29f-4742-4b64-aad8-4232870403d2",
   "metadata": {},
   "outputs": [],
   "source": [
    "predict(3,7,5)"
   ]
  },
  {
   "cell_type": "code",
   "execution_count": null,
   "id": "0aff6f3d-8f7b-4527-9082-8ff6aa07f006",
   "metadata": {},
   "outputs": [],
   "source": []
  }
 ],
 "metadata": {
  "kernelspec": {
   "display_name": "base",
   "language": "python",
   "name": "python3"
  },
  "language_info": {
   "codemirror_mode": {
    "name": "ipython",
    "version": 3
   },
   "file_extension": ".py",
   "mimetype": "text/x-python",
   "name": "python",
   "nbconvert_exporter": "python",
   "pygments_lexer": "ipython3",
   "version": "3.12.9"
  }
 },
 "nbformat": 4,
 "nbformat_minor": 5
}
